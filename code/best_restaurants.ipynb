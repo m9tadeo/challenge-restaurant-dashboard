{
 "cells": [
  {
   "attachments": {},
   "cell_type": "markdown",
   "metadata": {},
   "source": [
    "## Import `pandas` library and load filtered dataset"
   ]
  },
  {
   "cell_type": "code",
   "execution_count": 1,
   "metadata": {},
   "outputs": [],
   "source": [
    "import pandas as pd\n",
    "\n",
    "dataset = '../data/TA_restaurants_curated_filtered.csv'\n",
    "df = pd.read_csv(dataset)"
   ]
  },
  {
   "attachments": {},
   "cell_type": "markdown",
   "metadata": {},
   "source": [
    "## Transform `Reviews` column"
   ]
  },
  {
   "cell_type": "code",
   "execution_count": 2,
   "metadata": {},
   "outputs": [],
   "source": [
    "# replace empty reviews\n",
    "df['Reviews'] = df['Reviews'].replace(r\"[[], []]\", r\"No review\")\n",
    "\n",
    "# remove some characters\n",
    "df['Reviews'] = df['Reviews'].replace(r\"\\[\", r\"\", regex=True)\n",
    "df['Reviews'] = df['Reviews'].replace(r\"]\", r\"\", regex=True)"
   ]
  },
  {
   "attachments": {},
   "cell_type": "markdown",
   "metadata": {},
   "source": [
    "## Create `Dashboard Review` column from first review"
   ]
  },
  {
   "cell_type": "code",
   "execution_count": 3,
   "metadata": {},
   "outputs": [],
   "source": [
    "review_db = []\n",
    "\n",
    "# loop through Reviews column\n",
    "for item in df['Reviews']:\n",
    "    review_list = item.split(\"'\") # split item into list\n",
    "    if len(review_list[0]) > 0: # find first non-empty list item\n",
    "        review_db.append(review_list[0]) # append to review_db list\n",
    "    elif len(review_list[1]) > 0:\n",
    "        review_db.append(review_list[1])\n",
    "    else:\n",
    "        review_db.append(\"Cannot find review\")\n",
    "df['Dashboard Review'] = review_db # transform review_db list to Dashboard Review column"
   ]
  },
  {
   "attachments": {},
   "cell_type": "markdown",
   "metadata": {},
   "source": [
    "## Drop unnecessary columns"
   ]
  },
  {
   "cell_type": "code",
   "execution_count": 4,
   "metadata": {},
   "outputs": [],
   "source": [
    "df.drop(df.columns[9:11], inplace=True, axis=1)\n",
    "df.drop(df.columns[4], inplace=True, axis=1)\n",
    "df.drop(df.columns[0], inplace=True, axis=1)"
   ]
  },
  {
   "attachments": {},
   "cell_type": "markdown",
   "metadata": {},
   "source": [
    "## Save processed filtered dataset to new csv"
   ]
  },
  {
   "cell_type": "code",
   "execution_count": 5,
   "metadata": {},
   "outputs": [],
   "source": [
    "df.to_csv('../data/TA_restaurants_curated_best.csv', index=False, header=True)"
   ]
  }
 ],
 "metadata": {
  "kernelspec": {
   "display_name": "restaurant_project",
   "language": "python",
   "name": "python3"
  },
  "language_info": {
   "codemirror_mode": {
    "name": "ipython",
    "version": 3
   },
   "file_extension": ".py",
   "mimetype": "text/x-python",
   "name": "python",
   "nbconvert_exporter": "python",
   "pygments_lexer": "ipython3",
   "version": "3.10.9"
  },
  "orig_nbformat": 4,
  "vscode": {
   "interpreter": {
    "hash": "f865f4c13858a38ccd22ab543e45efce4da85ed67282c180cbd2ceff6f8c47c9"
   }
  }
 },
 "nbformat": 4,
 "nbformat_minor": 2
}
