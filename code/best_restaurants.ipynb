{
 "cells": [
  {
   "cell_type": "code",
   "execution_count": 1,
   "metadata": {},
   "outputs": [],
   "source": [
    "# import libraries\n",
    "\n",
    "import pandas as pd"
   ]
  },
  {
   "cell_type": "code",
   "execution_count": 2,
   "metadata": {},
   "outputs": [],
   "source": [
    "# load dataset\n",
    "\n",
    "dataset = '../data/TA_restaurants_curated_filtered.csv'\n",
    "df = pd.read_csv(dataset)"
   ]
  },
  {
   "cell_type": "code",
   "execution_count": 5,
   "metadata": {},
   "outputs": [],
   "source": [
    "df['Reviews'] = df['Reviews'].replace(r\"[[], []]\", r\"No review\")"
   ]
  },
  {
   "cell_type": "code",
   "execution_count": 7,
   "metadata": {},
   "outputs": [],
   "source": [
    "df['Reviews'] = df['Reviews'].replace(r\"\\[\", r\"\", regex=True)\n",
    "df['Reviews'] = df['Reviews'].replace(r\"]\", r\"\", regex=True)"
   ]
  },
  {
   "cell_type": "code",
   "execution_count": 11,
   "metadata": {},
   "outputs": [],
   "source": [
    "review_db = []\n",
    "\n",
    "for item in df['Reviews']:\n",
    "    review_list = item.split(\"'\")\n",
    "    if len(review_list[0]) > 0:\n",
    "        review_db.append(review_list[0])\n",
    "    elif len(review_list[1]) > 0:\n",
    "        review_db.append(review_list[1])\n",
    "    else:\n",
    "        review_db.append(\"Cannot find review\")"
   ]
  },
  {
   "cell_type": "code",
   "execution_count": 13,
   "metadata": {},
   "outputs": [],
   "source": [
    "df['Dashboard Review'] = review_db"
   ]
  },
  {
   "cell_type": "code",
   "execution_count": 15,
   "metadata": {},
   "outputs": [],
   "source": [
    "df.drop(df.columns[9:11], inplace=True, axis=1)\n",
    "df.drop(df.columns[4], inplace=True, axis=1)\n",
    "df.drop(df.columns[0], inplace=True, axis=1)"
   ]
  },
  {
   "cell_type": "code",
   "execution_count": 17,
   "metadata": {},
   "outputs": [],
   "source": [
    "df.to_csv('../data/TA_restaurants_curated_best.csv', index=False, header=True)"
   ]
  }
 ],
 "metadata": {
  "kernelspec": {
   "display_name": "restaurant_project",
   "language": "python",
   "name": "python3"
  },
  "language_info": {
   "codemirror_mode": {
    "name": "ipython",
    "version": 3
   },
   "file_extension": ".py",
   "mimetype": "text/x-python",
   "name": "python",
   "nbconvert_exporter": "python",
   "pygments_lexer": "ipython3",
   "version": "3.10.9"
  },
  "orig_nbformat": 4,
  "vscode": {
   "interpreter": {
    "hash": "f865f4c13858a38ccd22ab543e45efce4da85ed67282c180cbd2ceff6f8c47c9"
   }
  }
 },
 "nbformat": 4,
 "nbformat_minor": 2
}
