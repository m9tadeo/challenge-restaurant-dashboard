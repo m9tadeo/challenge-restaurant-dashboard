{
 "cells": [
  {
   "cell_type": "code",
   "execution_count": 1,
   "metadata": {},
   "outputs": [],
   "source": [
    "# import libraries\n",
    "\n",
    "import pandas as pd"
   ]
  },
  {
   "cell_type": "code",
   "execution_count": 8,
   "metadata": {},
   "outputs": [],
   "source": [
    "# load dataset\n",
    "\n",
    "dataset = '../data/TA_restaurants_curated.csv'\n",
    "df = pd.read_csv(dataset)"
   ]
  },
  {
   "cell_type": "code",
   "execution_count": 9,
   "metadata": {},
   "outputs": [],
   "source": [
    "# rename first column\n",
    "\n",
    "df.rename(columns={'Unnamed: 0':'Col_A'}, inplace=True)"
   ]
  },
  {
   "cell_type": "code",
   "execution_count": 10,
   "metadata": {},
   "outputs": [],
   "source": [
    "# fill-in NaN values\n",
    "\n",
    "df['Cuisine Style'] = df['Cuisine Style'].fillna(\"['No Data']\")\n",
    "df['Ranking'] = df['Ranking'].fillna(0)\n",
    "df['Rating'] = df['Rating'].fillna(0)\n",
    "df['Price Range'] = df['Price Range'].fillna(\"No Data\")\n",
    "df['Number of Reviews'] = df['Number of Reviews'].fillna(0)\n",
    "df['Reviews'] = df['Reviews'].fillna(\"[[], []]\")"
   ]
  },
  {
   "cell_type": "code",
   "execution_count": 12,
   "metadata": {},
   "outputs": [],
   "source": [
    "# save processed dataframe to new csv\n",
    "\n",
    "df.to_csv('../data/TA_restaurants_curated_processed.csv', index=False, header=True)"
   ]
  }
 ],
 "metadata": {
  "kernelspec": {
   "display_name": "restaurant_project",
   "language": "python",
   "name": "python3"
  },
  "language_info": {
   "codemirror_mode": {
    "name": "ipython",
    "version": 3
   },
   "file_extension": ".py",
   "mimetype": "text/x-python",
   "name": "python",
   "nbconvert_exporter": "python",
   "pygments_lexer": "ipython3",
   "version": "3.10.9"
  },
  "orig_nbformat": 4,
  "vscode": {
   "interpreter": {
    "hash": "f865f4c13858a38ccd22ab543e45efce4da85ed67282c180cbd2ceff6f8c47c9"
   }
  }
 },
 "nbformat": 4,
 "nbformat_minor": 2
}
