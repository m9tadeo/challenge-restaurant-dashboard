{
 "cells": [
  {
   "attachments": {},
   "cell_type": "markdown",
   "metadata": {},
   "source": [
    "## Import `pandas` library and load raw dataset"
   ]
  },
  {
   "cell_type": "code",
   "execution_count": 1,
   "metadata": {},
   "outputs": [],
   "source": [
    "import pandas as pd\n",
    "\n",
    "dataset = '../data/TA_restaurants_curated.csv'\n",
    "df = pd.read_csv(dataset)"
   ]
  },
  {
   "attachments": {},
   "cell_type": "markdown",
   "metadata": {},
   "source": [
    "## Clean raw dataset"
   ]
  },
  {
   "cell_type": "code",
   "execution_count": 2,
   "metadata": {},
   "outputs": [],
   "source": [
    "# rename first column\n",
    "df.rename(columns={'Unnamed: 0':'Col_A'}, inplace=True)\n",
    "\n",
    "# fill-in NaN values\n",
    "df['Cuisine Style'] = df['Cuisine Style'].fillna(\"['No Data']\")\n",
    "df['Ranking'] = df['Ranking'].fillna(0)\n",
    "df['Rating'] = df['Rating'].fillna(0)\n",
    "df['Price Range'] = df['Price Range'].fillna(\"No Data\")\n",
    "df['Number of Reviews'] = df['Number of Reviews'].fillna(0)\n",
    "df['Reviews'] = df['Reviews'].fillna(\"[[], []]\")\n",
    "\n",
    "# remove some characters\n",
    "df['Cuisine Style'] = df['Cuisine Style'].replace(r\"'\", r\"\", regex=True)\n",
    "df['Cuisine Style'] = df['Cuisine Style'].replace(r\"\\[\", r\"\", regex=True)\n",
    "df['Cuisine Style'] = df['Cuisine Style'].replace(r\"]\", r\"\", regex=True)\n",
    "\n",
    "# add space between Cuisine Style items\n",
    "df['Cuisine Style'] = df['Cuisine Style'].replace(r\",\", r\", \", regex=True)"
   ]
  },
  {
   "attachments": {},
   "cell_type": "markdown",
   "metadata": {},
   "source": [
    "## Transform `Price Range` column values"
   ]
  },
  {
   "cell_type": "code",
   "execution_count": 3,
   "metadata": {},
   "outputs": [],
   "source": [
    "df['Price Range'] = df['Price Range'].replace(r\"$\", r\"Bargain\")\n",
    "df['Price Range'] = df['Price Range'].replace(r\"$$ - $$$\", r\"Reasonable\")\n",
    "df['Price Range'] = df['Price Range'].replace(r\"$$$$\", r\"High-end\")"
   ]
  },
  {
   "attachments": {},
   "cell_type": "markdown",
   "metadata": {},
   "source": [
    "## Save processed dataset to new csv"
   ]
  },
  {
   "cell_type": "code",
   "execution_count": 4,
   "metadata": {},
   "outputs": [],
   "source": [
    "df.to_csv('../data/TA_restaurants_curated_processed.csv', index=False, header=True)"
   ]
  },
  {
   "attachments": {},
   "cell_type": "markdown",
   "metadata": {},
   "source": [
    "## Filter dataset for highest (`5.0`) rating and save to new csv for `best restaurants` dashboard"
   ]
  },
  {
   "cell_type": "code",
   "execution_count": 5,
   "metadata": {},
   "outputs": [],
   "source": [
    "df_5 = df[df['Rating'] == 5.0]\n",
    "\n",
    "df_5.to_csv('../data/TA_restaurants_curated_filtered.csv', index=False, header=True)"
   ]
  }
 ],
 "metadata": {
  "kernelspec": {
   "display_name": "restaurant_project",
   "language": "python",
   "name": "python3"
  },
  "language_info": {
   "codemirror_mode": {
    "name": "ipython",
    "version": 3
   },
   "file_extension": ".py",
   "mimetype": "text/x-python",
   "name": "python",
   "nbconvert_exporter": "python",
   "pygments_lexer": "ipython3",
   "version": "3.10.9 | packaged by conda-forge | (main, Jan 11 2023, 15:15:40) [MSC v.1916 64 bit (AMD64)]"
  },
  "orig_nbformat": 4,
  "vscode": {
   "interpreter": {
    "hash": "f865f4c13858a38ccd22ab543e45efce4da85ed67282c180cbd2ceff6f8c47c9"
   }
  }
 },
 "nbformat": 4,
 "nbformat_minor": 2
}
